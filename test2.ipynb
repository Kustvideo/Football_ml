{
 "cells": [
  {
   "cell_type": "code",
   "execution_count": 12,
   "metadata": {},
   "outputs": [],
   "source": [
    "import json\n",
    "import requests\n",
    "import pandas as pd"
   ]
  },
  {
   "cell_type": "code",
   "execution_count": 11,
   "metadata": {},
   "outputs": [
    {
     "name": "stdout",
     "output_type": "stream",
     "text": [
      "received\n"
     ]
    }
   ],
   "source": [
    "url = \"https://api-football-v1.p.rapidapi.com/v3/leagues\"\n",
    "\n",
    "\n",
    "\n",
    "headers = {\n",
    "\n",
    "    'x-rapidapi-host': \"api-football-v1.p.rapidapi.com\",\n",
    "\n",
    "    'x-rapidapi-key': \"4b190659a8msh98c3f1781eeccc0p1441b3jsn3065fcc82b9a\"\n",
    "\n",
    "    }\n",
    "\n",
    "\n",
    "\n",
    "response = requests.request(\"GET\", url, headers=headers)\n",
    "\n",
    "print('received')\n",
    "\n",
    "data = response.json()\n",
    "\n",
    "with open('leagues.json', 'w') as f:\n",
    "\n",
    "    json.dump(data, f)"
   ]
  },
  {
   "cell_type": "code",
   "execution_count": 15,
   "metadata": {},
   "outputs": [
    {
     "name": "stdout",
     "output_type": "stream",
     "text": [
      "   year       start         end  current  coverage.fixtures.events  \\\n",
      "0  2008  2008-06-07  2008-06-29    False                      True   \n",
      "1  2012  2012-06-08  2012-07-01    False                      True   \n",
      "2  2016  2016-06-10  2016-07-10    False                      True   \n",
      "3  2020  2019-03-21  2021-07-11     True                      True   \n",
      "4  2009  2009-06-14  2009-06-28    False                      True   \n",
      "\n",
      "   coverage.fixtures.lineups  coverage.fixtures.statistics_fixtures  \\\n",
      "0                       True                                  False   \n",
      "1                       True                                  False   \n",
      "2                       True                                   True   \n",
      "3                       True                                   True   \n",
      "4                       True                                  False   \n",
      "\n",
      "   coverage.fixtures.statistics_players  coverage.standings  coverage.players  \\\n",
      "0                                 False               False             False   \n",
      "1                                 False               False             False   \n",
      "2                                  True                True             False   \n",
      "3                                  True                True              True   \n",
      "4                                 False               False              True   \n",
      "\n",
      "   coverage.top_scorers  coverage.top_assists  coverage.top_cards  \\\n",
      "0                 False                 False               False   \n",
      "1                 False                 False               False   \n",
      "2                 False                 False               False   \n",
      "3                  True                  True                True   \n",
      "4                  True                  True                True   \n",
      "\n",
      "   coverage.injuries  coverage.predictions  coverage.odds  \\\n",
      "0              False                  True          False   \n",
      "1              False                  True          False   \n",
      "2              False                  True          False   \n",
      "3              False                  True          False   \n",
      "4              False                  True          False   \n",
      "\n",
      "                                              league  \n",
      "0  {'id': 4, 'name': 'Euro Championship', 'type':...  \n",
      "1  {'id': 4, 'name': 'Euro Championship', 'type':...  \n",
      "2  {'id': 4, 'name': 'Euro Championship', 'type':...  \n",
      "3  {'id': 4, 'name': 'Euro Championship', 'type':...  \n",
      "4  {'id': 21, 'name': 'Confederations Cup', 'type...  \n"
     ]
    }
   ],
   "source": [
    "with open('leagues.json') as json_data:\n",
    "\n",
    "    data = json.load(json_data)\n",
    "\n",
    "    data = data['response']\n",
    "\n",
    "    df = pd.json_normalize(data, record_path = 'seasons', meta = ['league'] , errors='ignore')\n",
    "    \n",
    "print(df.head(5))\n",
    "df.to_csv('leagues.csv', index = False)"
   ]
  }
 ],
 "metadata": {
  "kernelspec": {
   "display_name": "Python 3.10.4 64-bit",
   "language": "python",
   "name": "python3"
  },
  "language_info": {
   "codemirror_mode": {
    "name": "ipython",
    "version": 3
   },
   "file_extension": ".py",
   "mimetype": "text/x-python",
   "name": "python",
   "nbconvert_exporter": "python",
   "pygments_lexer": "ipython3",
   "version": "3.10.4"
  },
  "orig_nbformat": 4,
  "vscode": {
   "interpreter": {
    "hash": "a3e2caf56fd07a06e459d177d79aea26f7af4ab05013d66fbbf5a839aab6ec48"
   }
  }
 },
 "nbformat": 4,
 "nbformat_minor": 2
}
